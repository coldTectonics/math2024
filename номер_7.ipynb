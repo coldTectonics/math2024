{
  "nbformat": 4,
  "nbformat_minor": 0,
  "metadata": {
    "colab": {
      "provenance": []
    },
    "kernelspec": {
      "name": "python3",
      "display_name": "Python 3"
    },
    "language_info": {
      "name": "python"
    }
  },
  "cells": [
    {
      "cell_type": "markdown",
      "source": [
        "#Задача 7.\n",
        "\n",
        "Случайная величина X распределена по нормальному закону с параметрами\n",
        "m = 0 и s = 1. Другая случайная величина Y = 2 X + 3.\n",
        "\n",
        "(a) Чему равны E(Y), D(Y) и s(Y)?\n",
        "\n",
        "(b) Как связаны функции распределения FX(x) и FY(x)? Можно ли указать тип\n",
        "\n",
        "распределения для Y?\n",
        "\n",
        "(c) Найти вероятность P (Y ≤ 2);\n",
        "\n",
        "(d) найти вероятность P (Y ≤ −10);\n",
        "\n",
        "(e) найти вероятность P (−1 < Y ≤ 2);\n",
        "\n",
        "(f) найти вероятность P(Y > 2).\n",
        "\n",
        "Для пп. (c) - (f) напишите программу на Python, которая даст ответы на поставленные\n",
        "задачи."
      ],
      "metadata": {
        "id": "ClPcpJIHgFFJ"
      }
    },
    {
      "cell_type": "markdown",
      "source": [
        "Функция:\n",
        "\n",
        "![image.png](data:image/png;base64,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)\n"
      ],
      "metadata": {
        "id": "2sPssaPsgmHn"
      }
    },
    {
      "cell_type": "code",
      "execution_count": 1,
      "metadata": {
        "id": "JlpdtJUMf4IN"
      },
      "outputs": [],
      "source": [
        "import math\n",
        "from scipy.integrate import quad\n",
        "\n",
        "def norm(x, m, s): #нормальное распределение\n",
        "    n = 1 / (s * math.sqrt(2 * math.pi)) * (math.e ** (-0.5 * (((x - m) / s) ** 2)))\n",
        "    return n\n",
        "\n",
        "def integrate(a, b, m, s): #интегрирование\n",
        "    n = quad(norm, a, b, args=(m, s))\n",
        "\n",
        "    return n[0]"
      ]
    },
    {
      "cell_type": "code",
      "source": [
        "#параметры\n",
        "m = 1\n",
        "s = 2\n",
        "\n",
        "#из бумажных расчётов\n",
        "m_y = 3\n",
        "s_y = 2\n",
        "\n",
        "c = 2\n",
        "d = -10\n",
        "e1 = -1\n",
        "e2 = 2\n",
        "f = 2"
      ],
      "metadata": {
        "id": "PAfi2Qbtg421"
      },
      "execution_count": 5,
      "outputs": []
    },
    {
      "cell_type": "code",
      "source": [
        "print('c) ', integrate(-(float('inf')), c, m_y, s_y))\n",
        "print('d) ', integrate(-(float('inf')), d, m_y, s_y))\n",
        "print('e) ', integrate(e1, e2, m_y, s_y))\n",
        "print('f) ', integrate(f, (float('inf')), m_y, s_y))"
      ],
      "metadata": {
        "colab": {
          "base_uri": "https://localhost:8080/"
        },
        "id": "T4h2mmbxg5R2",
        "outputId": "0962f4cd-8f48-4abb-cded-3c244abfc2b9"
      },
      "execution_count": 6,
      "outputs": [
        {
          "output_type": "stream",
          "name": "stdout",
          "text": [
            "c)  0.30853753872598694\n",
            "d)  4.016000048693674e-11\n",
            "e)  0.28578740677780773\n",
            "f)  0.6914624612740131\n"
          ]
        }
      ]
    }
  ]
}